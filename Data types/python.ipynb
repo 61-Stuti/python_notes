{
 "cells": [
  {
   "cell_type": "code",
   "execution_count": 1,
   "metadata": {},
   "outputs": [
    {
     "name": "stdout",
     "output_type": "stream",
     "text": [
      "Hello  interviewbits\n"
     ]
    }
   ],
   "source": [
    "def main():\n",
    "    # YOUR CODE GOES HERE\n",
    "    inp = input('enter:')\n",
    "    print(\"Hello \", inp)\n",
    "    # Please take input and print output to standard input/output (stdin/stdout)\n",
    "    # E.g. 'input()/raw_input()' for input & 'print' for output\n",
    "\n",
    "    return 0\n",
    "\n",
    "if __name__ == '__main__':\n",
    "    main()"
   ]
  },
  {
   "cell_type": "code",
   "execution_count": 29,
   "metadata": {},
   "outputs": [
    {
     "name": "stdout",
     "output_type": "stream",
     "text": [
      "False\n",
      "1\n",
      "[1, 0, 0, 0, 0, 0, 1]\n"
     ]
    }
   ],
   "source": [
    "flowerbed = [1,0,0,0,0,0,1]\n",
    "count=0\n",
    "n=2\n",
    "for i in range(0, len(flowerbed)-2):\n",
    "    if flowerbed[i]==1:\n",
    "        count+=1\n",
    "\n",
    "if count==n:\n",
    "    print(True)\n",
    "else:\n",
    "    print(False)\n",
    "print(count)\n",
    "print(flowerbed)"
   ]
  },
  {
   "cell_type": "code",
   "execution_count": 11,
   "metadata": {},
   "outputs": [
    {
     "name": "stdout",
     "output_type": "stream",
     "text": [
      "[0, 0, 0] "
     ]
    },
    {
     "data": {
      "text/plain": [
       "list"
      ]
     },
     "execution_count": 11,
     "metadata": {},
     "output_type": "execute_result"
    }
   ],
   "source": [
    "print([0]*3)\n",
    "type([0]*3)"
   ]
  },
  {
   "cell_type": "code",
   "execution_count": 12,
   "metadata": {},
   "outputs": [
    {
     "data": {
      "text/plain": [
       "True"
      ]
     },
     "execution_count": 12,
     "metadata": {},
     "output_type": "execute_result"
    }
   ],
   "source": [
    "d= {'mykey': 'donkey'}\n",
    "'donkey' in d.values()"
   ]
  },
  {
   "cell_type": "code",
   "execution_count": 5,
   "metadata": {},
   "outputs": [
    {
     "name": "stdout",
     "output_type": "stream",
     "text": [
      "[9, 2, 7, 5, 6, 4, 1, 8, 10, 3]\n"
     ]
    }
   ],
   "source": [
    "#shuffle function                        if random_list= shuffle(list4)\n",
    "                                         #type(shuffle(list4))= nonetype\n",
    "from random import shuffle                 \n",
    "list4= [1,2,3,4,5,6,7,8,9,10]\n",
    "shuffle(list4)\n",
    "print(list4)"
   ]
  },
  {
   "cell_type": "code",
   "execution_count": 6,
   "metadata": {},
   "outputs": [
    {
     "data": {
      "text/plain": [
       "3"
      ]
     },
     "execution_count": 6,
     "metadata": {},
     "output_type": "execute_result"
    }
   ],
   "source": [
    "#randint                        selects random integer from the range\n",
    "from random import randint\n",
    "randint(0,100)"
   ]
  },
  {
   "cell_type": "code",
   "execution_count": 14,
   "metadata": {},
   "outputs": [
    {
     "data": {
      "text/plain": [
       "'c:\\\\Users\\\\admin\\\\Desktop\\\\python_notes\\\\Data types'"
      ]
     },
     "execution_count": 14,
     "metadata": {},
     "output_type": "execute_result"
    }
   ],
   "source": [
    "pwd"
   ]
  },
  {
   "cell_type": "code",
   "execution_count": 6,
   "metadata": {},
   "outputs": [
    {
     "name": "stdout",
     "output_type": "stream",
     "text": [
      "None\n"
     ]
    }
   ],
   "source": [
    "import re\n",
    "sentence = \"the agent's phone number is (555)-888-1234. Call soon on his phone number!\"\n",
    "\n",
    "searches = re.search('(555)-888-1234', sentence)\n",
    "print(searches)\n"
   ]
  },
  {
   "cell_type": "code",
   "execution_count": 7,
   "metadata": {},
   "outputs": [
    {
     "name": "stdout",
     "output_type": "stream",
     "text": [
      "0 2\n"
     ]
    }
   ],
   "source": [
    "nums = [2,7,4,15] \n",
    "target = 6\n",
    "for i in range(0, len(nums)):\n",
    "    for j in range(i+1, len(nums)):\n",
    "        if (nums[i]+nums[j]==target):\n",
    "            print(i,j)  "
   ]
  },
  {
   "cell_type": "code",
   "execution_count": 9,
   "metadata": {},
   "outputs": [
    {
     "data": {
      "text/plain": [
       "5"
      ]
     },
     "execution_count": 9,
     "metadata": {},
     "output_type": "execute_result"
    }
   ],
   "source": [
    "s = \"hello world\"\n",
    "len(s.split()[-1])"
   ]
  },
  {
   "cell_type": "code",
   "execution_count": 15,
   "metadata": {},
   "outputs": [
    {
     "name": "stdout",
     "output_type": "stream",
     "text": [
      "6\n"
     ]
    }
   ],
   "source": [
    "sentences = [\"alice and bob love leetcode\", \"i think so too\", \"this is great thanks very much\"]\n",
    "L=[]\n",
    "for i in sentences:\n",
    "    L.append(len(i.split()))\n",
    "print(max(L))"
   ]
  },
  {
   "cell_type": "code",
   "execution_count": 20,
   "metadata": {},
   "outputs": [
    {
     "name": "stdout",
     "output_type": "stream",
     "text": [
      "0\n"
     ]
    }
   ],
   "source": [
    "needle = 'sad'\n",
    "haystack = 'sadaboutsad'\n",
    "\n",
    "import re\n",
    "match = re.search(needle,haystack)\n",
    "if match != None:\n",
    "    print(match.start())\n",
    "else:\n",
    "    print('-1')"
   ]
  },
  {
   "cell_type": "code",
   "execution_count": 16,
   "metadata": {},
   "outputs": [
    {
     "name": "stdout",
     "output_type": "stream",
     "text": [
      "0\n"
     ]
    }
   ],
   "source": [
    "needle = 'sad'\n",
    "haystack = 'sadaboutsad'\n",
    "\n",
    "match = haystack.find(needle)\n",
    "if match != None:\n",
    "    print(match)\n",
    "else:\n",
    "    print('-1') "
   ]
  },
  {
   "cell_type": "code",
   "execution_count": 46,
   "metadata": {},
   "outputs": [
    {
     "name": "stdout",
     "output_type": "stream",
     "text": [
      "10101\n"
     ]
    }
   ],
   "source": [
    "#a = int('10110', 2) #(0*2** 0)+(1*2**1)+(1*2**2)+(0*2**3)+(1*2**4) = 22\n",
    "    #b = int('1011', 2) #(1*2** 0)+(1*2**1)+(0*2**2)+(1*2**3) = 11\n",
    "\n",
    "a = \"1010\"\n",
    "b = \"1011\"\n",
    "max_len = max(len(a), len(b))\n",
    "a = a.zfill(max_len)\n",
    "b = b.zfill(max_len)\n",
    " \n",
    "# Initialize the result\n",
    "result = ''\n",
    " \n",
    "# Initialize the carry\n",
    "carry = 0\n",
    " \n",
    "# Traverse the string\n",
    "for i in range(max_len - 1, -1, -1):\n",
    "    r = carry\n",
    "    r += 1 if a[i] == '1' else 0\n",
    "    r += 1 if b[i] == '1' else 0\n",
    "    result = ('1' if r % 2 == 1 else '0') + result\n",
    " \n",
    "    # Compute the carry.\n",
    "    carry = 0 if r < 2 else 1\n",
    " \n",
    "if carry != 0:\n",
    "    result = '1' + result\n",
    " \n",
    "print(result.zfill(max_len))"
   ]
  },
  {
   "cell_type": "code",
   "execution_count": 21,
   "metadata": {},
   "outputs": [
    {
     "name": "stdout",
     "output_type": "stream",
     "text": [
      "['0', '1', '2', '3', '4', '5', '6', '7', '8', '9']\n",
      "['0', '1', '2', '3', '4', '5', '6', '7', '8', '9']\n"
     ]
    }
   ],
   "source": [
    "def func_one(n):\n",
    "    return [str(num) for num in range(n)]\n",
    "print(func_one(10))\n",
    "\n",
    "def func_two(n):\n",
    "    return list(map(str, range(n)))\n",
    "print(func_two(10))\n"
   ]
  },
  {
   "cell_type": "code",
   "execution_count": 69,
   "metadata": {},
   "outputs": [
    {
     "name": "stdout",
     "output_type": "stream",
     "text": [
      "0.00799560546875\n"
     ]
    }
   ],
   "source": [
    "import time\n",
    "#current time before code\n",
    "start_time = time.time()\n",
    "\n",
    "#run code\n",
    "result1 = func_one(10000)\n",
    "\n",
    "#current time after the code\n",
    "end_time = time.time()\n",
    "\n",
    "#elapsed time\n",
    "elapsed_time = end_time - start_time\n",
    "print(elapsed_time)"
   ]
  },
  {
   "cell_type": "code",
   "execution_count": null,
   "metadata": {},
   "outputs": [],
   "source": [
    "##########################\n",
    "#current time before code\n",
    "start_time = time.time()\n",
    "\n",
    "#run code\n",
    "result = func_two(100000)\n",
    "\n",
    "#current time after the code\n",
    "end_time = time.time()\n",
    "\n",
    "#elapsed time\n",
    "elapsed_time = end_time - start_time\n",
    "print(elapsed_time)"
   ]
  },
  {
   "cell_type": "code",
   "execution_count": 63,
   "metadata": {},
   "outputs": [
    {
     "data": {
      "text/plain": [
       "2.053304199987906"
      ]
     },
     "execution_count": 63,
     "metadata": {},
     "output_type": "execute_result"
    }
   ],
   "source": [
    "import timeit\n",
    "\n",
    "stmt = '''\n",
    "func_one(100)\n",
    "'''\n",
    "\n",
    "setup = '''\n",
    "def func_one(n):\n",
    "    return [str(num) for num in range(n)]\n",
    "'''\n",
    "\n",
    "timeit.timeit(stmt, setup, number = 100000)   #repeating the number 100000 times"
   ]
  },
  {
   "cell_type": "code",
   "execution_count": 66,
   "metadata": {},
   "outputs": [
    {
     "data": {
      "text/plain": [
       "1.9989774999994552"
      ]
     },
     "execution_count": 66,
     "metadata": {},
     "output_type": "execute_result"
    }
   ],
   "source": [
    "import timeit\n",
    "\n",
    "stmt2 = '''\n",
    "func_two(100)\n",
    "'''\n",
    "\n",
    "setup2 = '''\n",
    "def func_two(n):\n",
    "    return list(map(str, range(n)))\n",
    "'''\n",
    "\n",
    "timeit.timeit(stmt2, setup2, number = 100000)"
   ]
  },
  {
   "cell_type": "code",
   "execution_count": 70,
   "metadata": {},
   "outputs": [
    {
     "name": "stdout",
     "output_type": "stream",
     "text": [
      "17.9 µs ± 1.52 µs per loop (mean ± std. dev. of 7 runs, 10,000 loops each)\n"
     ]
    }
   ],
   "source": [
    "%%timeit\n",
    "func_one(100)"
   ]
  },
  {
   "cell_type": "code",
   "execution_count": 71,
   "metadata": {},
   "outputs": [
    {
     "name": "stdout",
     "output_type": "stream",
     "text": [
      "17.2 µs ± 1.57 µs per loop (mean ± std. dev. of 7 runs, 10,000 loops each)\n"
     ]
    }
   ],
   "source": [
    "%%timeit\n",
    "func_two(100)"
   ]
  },
  {
   "cell_type": "code",
   "execution_count": 58,
   "metadata": {},
   "outputs": [
    {
     "name": "stdout",
     "output_type": "stream",
     "text": [
      "3\n"
     ]
    }
   ],
   "source": [
    "nums = [-1,1,2,3,1]\n",
    "target = 2\n",
    "count = 0\n",
    "\n",
    "nums.sort()\n",
    "n= len(nums)\n",
    "i=0\n",
    "j=n-1\n",
    "\n",
    "while i < j:\n",
    "    Sum= nums[i] + nums[j]\n",
    "    if Sum<target:\n",
    "        count+= j-i\n",
    "        i+=1\n",
    "    else:\n",
    "        j-=1\n",
    "print(count)\n"
   ]
  },
  {
   "cell_type": "code",
   "execution_count": 18,
   "metadata": {},
   "outputs": [
    {
     "name": "stdout",
     "output_type": "stream",
     "text": [
      "apple banana\n",
      "date grape\n",
      "Sorted strings in lexicographic order: ['apple', 'banana', 'cherry', 'date', 'grape']\n"
     ]
    }
   ],
   "source": [
    "def bubble_sort_strings(arr):\n",
    "    n = len(arr)\n",
    "    for i in range(n):\n",
    "        for j in range(0, n-i-1):\n",
    "            if arr[j] > arr[j+1]:\n",
    "                arr[j], arr[j+1] = arr[j+1], arr[j]\n",
    "                print(arr[j], arr[j+1])\n",
    "\n",
    "# Example usage:\n",
    "strings = [ \"banana\", \"apple\", \"cherry\", \"grape\", \"date\"]\n",
    "bubble_sort_strings(strings)\n",
    "print(\"Sorted strings in lexicographic order:\", strings)\n"
   ]
  },
  {
   "cell_type": "code",
   "execution_count": 20,
   "metadata": {},
   "outputs": [
    {
     "name": "stdout",
     "output_type": "stream",
     "text": [
      "Time taken for Bubble Sort: 12.17707371711731 seconds\n"
     ]
    }
   ],
   "source": [
    "import random\n",
    "import time\n",
    "\n",
    "def bubble_sort(arr):\n",
    "    n = len(arr)\n",
    "    for i in range(n):\n",
    "        for j in range(0, n-i-1):\n",
    "            if arr[j] > arr[j+1]:\n",
    "                arr[j], arr[j+1] = arr[j+1], arr[j]\n",
    "\n",
    "# Generate a large random list for testing\n",
    "arr = [random.randint(1, 1000) for i in range(10000)]\n",
    "\n",
    "#after executing this line of code, the variable arr will contain a list of 10,000 random integers between 1 and 1000. \n",
    "#This list is then used as input to the bubble_sort function to test the sorting algorithm's performance on a large dataset.\n",
    "\n",
    "start_time = time.time()\n",
    "bubble_sort(arr)\n",
    "end_time = time.time()\n",
    "\n",
    "print(\"Time taken for Bubble Sort:\", end_time - start_time, \"seconds\")\n"
   ]
  },
  {
   "cell_type": "code",
   "execution_count": 6,
   "metadata": {},
   "outputs": [
    {
     "name": "stdout",
     "output_type": "stream",
     "text": [
      "[0, 1, 1, 2, 3, 4, '', '', '', '']\n"
     ]
    }
   ],
   "source": [
    "nums = [0,0,1,1,1,2,2,3,3,4]\n",
    "count=0\n",
    "for i in range(len(nums)):\n",
    "    for j in range(i+1,len(nums)-1):\n",
    "        if nums[i] == nums[j]:\n",
    "            nums.pop(j)\n",
    "            count+=1\n",
    "\n",
    "for i in range(count):\n",
    "    nums.append(_)\n",
    "\n",
    "print(nums)\n",
    "\n"
   ]
  },
  {
   "cell_type": "code",
   "execution_count": null,
   "metadata": {},
   "outputs": [],
   "source": [
    "from bs4 import BeautifulSoup\n",
    "import requests\n",
    "\n",
    "with open(\"practice2.txt\") as html_file:\n",
    "    soup =  BeautifulSoup(html_file, 'lxml')\n",
    "\n",
    "print(soup.prettify())\n",
    "\n",
    "for article in soup.find_all('div', class_= 'atricle'):\n",
    "    headline = article.h2.a.text\n",
    "    print(headline)\n",
    "\n",
    "    summary = article.p.text\n",
    "    print(summary)"
   ]
  },
  {
   "cell_type": "code",
   "execution_count": 16,
   "metadata": {},
   "outputs": [
    {
     "name": "stdout",
     "output_type": "stream",
     "text": [
      "<class 'dict_values'>\n"
     ]
    }
   ],
   "source": [
    "nums = [1,2,2,3,3,3]\n",
    "k = 2\n",
    "\n",
    "d = {}\n",
    "\n",
    "for i in nums:\n",
    "    d[i]= d.get(i, 0)+1\n",
    "\n",
    "print(d.values())\n",
    "\n",
    "\n"
   ]
  },
  {
   "cell_type": "code",
   "execution_count": 63,
   "metadata": {},
   "outputs": [
    {
     "name": "stdout",
     "output_type": "stream",
     "text": [
      "4\n"
     ]
    }
   ],
   "source": [
    "n = 16\n",
    "x=0\n",
    "\n",
    "while n%2==0:\n",
    "    n = n//2\n",
    "    x+=1\n",
    "\n",
    "print(x)\n",
    "\n",
    "\n"
   ]
  },
  {
   "cell_type": "code",
   "execution_count": 64,
   "metadata": {},
   "outputs": [
    {
     "name": "stdout",
     "output_type": "stream",
     "text": [
      "1\n"
     ]
    }
   ],
   "source": [
    "print(3%2)"
   ]
  },
  {
   "cell_type": "code",
   "execution_count": 68,
   "metadata": {},
   "outputs": [
    {
     "name": "stdout",
     "output_type": "stream",
     "text": [
      "True\n",
      "False\n"
     ]
    }
   ],
   "source": [
    "n=16\n",
    "pow = 0\n",
    "for pow in range(n):\n",
    "    if 2**pow !=n:\n",
    "        continue\n",
    "    else:\n",
    "        print(True)\n",
    "        break\n",
    "        \n",
    "\n",
    "print(False)\n",
    "\n"
   ]
  },
  {
   "cell_type": "code",
   "execution_count": 126,
   "metadata": {},
   "outputs": [
    {
     "name": "stdout",
     "output_type": "stream",
     "text": [
      "1994\n"
     ]
    }
   ],
   "source": [
    "d = {'I': 1, 'IV':4, 'V': 5, 'IX': 9, 'X': 10, 'XL':40, 'L': 50, 'XC':90, 'C': 100, 'CD':400, 'D': 500, 'CM':900, 'M': 1000}\n",
    "s = \"MCMXCIV\"\n",
    "#s='LVIII'\n",
    "#s='III'\n",
    "sum = 0\n",
    "sum1 = 0 \n",
    "i=0\n",
    "j = len(s)-1\n",
    "while i<len(s):\n",
    "    if i+1<=j and s[i] + s[i+1] in d.keys():\n",
    "        sum1+= d[s[i+1]]-d[s[i]]\n",
    "        i+=2\n",
    "\n",
    "    elif s[i] in d.keys():\n",
    "        sum+= d[s[i]]\n",
    "        i+=1\n",
    "\n",
    "print(sum+sum1)\n"
   ]
  },
  {
   "cell_type": "code",
   "execution_count": 95,
   "metadata": {},
   "outputs": [
    {
     "name": "stdout",
     "output_type": "stream",
     "text": [
      "stutinigam\n"
     ]
    }
   ],
   "source": [
    "name= 'stuti'+'nigam'\n",
    "print(name)"
   ]
  },
  {
   "cell_type": "code",
   "execution_count": 49,
   "metadata": {},
   "outputs": [
    {
     "ename": "SyntaxError",
     "evalue": "invalid syntax (3949335182.py, line 2)",
     "output_type": "error",
     "traceback": [
      "\u001b[1;36m  Cell \u001b[1;32mIn[49], line 2\u001b[1;36m\u001b[0m\n\u001b[1;33m    print(x///2)\u001b[0m\n\u001b[1;37m             ^\u001b[0m\n\u001b[1;31mSyntaxError\u001b[0m\u001b[1;31m:\u001b[0m invalid syntax\n"
     ]
    }
   ],
   "source": [
    "x = 8\n",
    "print(x//2)"
   ]
  }
 ],
 "metadata": {
  "kernelspec": {
   "display_name": "Python 3",
   "language": "python",
   "name": "python3"
  },
  "language_info": {
   "codemirror_mode": {
    "name": "ipython",
    "version": 3
   },
   "file_extension": ".py",
   "mimetype": "text/x-python",
   "name": "python",
   "nbconvert_exporter": "python",
   "pygments_lexer": "ipython3",
   "version": "3.11.2"
  },
  "orig_nbformat": 4
 },
 "nbformat": 4,
 "nbformat_minor": 2
}
