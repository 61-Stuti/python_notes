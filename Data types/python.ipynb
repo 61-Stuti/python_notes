{
 "cells": [
  {
   "cell_type": "code",
   "execution_count": 1,
   "metadata": {},
   "outputs": [
    {
     "name": "stdout",
     "output_type": "stream",
     "text": [
      "1\n"
     ]
    }
   ],
   "source": [
    "L=[1,2,3]\n",
    "print(L[0])"
   ]
  },
  {
   "cell_type": "code",
   "execution_count": 1,
   "metadata": {},
   "outputs": [
    {
     "name": "stdout",
     "output_type": "stream",
     "text": [
      "Hello  interviewbits\n"
     ]
    }
   ],
   "source": [
    "def main():\n",
    "    # YOUR CODE GOES HERE\n",
    "    inp = input('enter:')\n",
    "    print(\"Hello \", inp)\n",
    "    # Please take input and print output to standard input/output (stdin/stdout)\n",
    "    # E.g. 'input()/raw_input()' for input & 'print' for output\n",
    "\n",
    "    return 0\n",
    "\n",
    "if __name__ == '__main__':\n",
    "    main()"
   ]
  },
  {
   "cell_type": "code",
   "execution_count": 4,
   "metadata": {},
   "outputs": [
    {
     "name": "stdout",
     "output_type": "stream",
     "text": [
      "[1, 2, 4, [3, 4]]\n"
     ]
    }
   ],
   "source": [
    "my_list=[1,2,[3,4]]\n",
    "my_list.insert(2,4)\n",
    "print(my_list)\n",
    "my_list."
   ]
  },
  {
   "cell_type": "code",
   "execution_count": 29,
   "metadata": {},
   "outputs": [
    {
     "name": "stdout",
     "output_type": "stream",
     "text": [
      "False\n",
      "1\n",
      "[1, 0, 0, 0, 0, 0, 1]\n"
     ]
    }
   ],
   "source": [
    "flowerbed = [1,0,0,0,0,0,1]\n",
    "count=0\n",
    "n=2\n",
    "for i in range(0, len(flowerbed)-2):\n",
    "    if flowerbed[i]==1:\n",
    "        count+=1\n",
    "\n",
    "if count==n:\n",
    "    print(True)\n",
    "else:\n",
    "    print(False)\n",
    "print(count)\n",
    "print(flowerbed)"
   ]
  },
  {
   "cell_type": "code",
   "execution_count": 4,
   "metadata": {},
   "outputs": [
    {
     "data": {
      "text/plain": [
       "[1, 2, 3, 4]"
      ]
     },
     "execution_count": 4,
     "metadata": {},
     "output_type": "execute_result"
    }
   ],
   "source": [
    "L.append(4)\n",
    "L"
   ]
  },
  {
   "cell_type": "code",
   "execution_count": 11,
   "metadata": {},
   "outputs": [
    {
     "data": {
      "text/plain": [
       "'olleh'"
      ]
     },
     "execution_count": 11,
     "metadata": {},
     "output_type": "execute_result"
    }
   ],
   "source": [
    "s='hello'\n",
    "s[::-1]"
   ]
  },
  {
   "cell_type": "code",
   "execution_count": 13,
   "metadata": {},
   "outputs": [
    {
     "data": {
      "text/plain": [
       "list"
      ]
     },
     "execution_count": 13,
     "metadata": {},
     "output_type": "execute_result"
    }
   ],
   "source": [
    "[0]*3\n",
    "type([0]*3)"
   ]
  },
  {
   "cell_type": "code",
   "execution_count": 14,
   "metadata": {},
   "outputs": [
    {
     "data": {
      "text/plain": [
       "[1, 2, 3, 4]"
      ]
     },
     "execution_count": 14,
     "metadata": {},
     "output_type": "execute_result"
    }
   ],
   "source": [
    "list=[1,2,3,4]\n",
    "sorted(list)"
   ]
  },
  {
   "cell_type": "code",
   "execution_count": 2,
   "metadata": {},
   "outputs": [
    {
     "data": {
      "text/plain": [
       "True"
      ]
     },
     "execution_count": 2,
     "metadata": {},
     "output_type": "execute_result"
    }
   ],
   "source": [
    "d= {'mykey': 'donkey'}\n",
    "'donkey'in d.values()"
   ]
  },
  {
   "cell_type": "code",
   "execution_count": 5,
   "metadata": {},
   "outputs": [
    {
     "name": "stdout",
     "output_type": "stream",
     "text": [
      "[9, 2, 7, 5, 6, 4, 1, 8, 10, 3]\n"
     ]
    }
   ],
   "source": [
    "#shuffle function                        if random_list= shuffle(list4)\n",
    "                                         #type(shuffle(list4))= nonetype\n",
    "from random import shuffle                 \n",
    "list4= [1,2,3,4,5,6,7,8,9,10]\n",
    "shuffle(list4)\n",
    "print(list4)"
   ]
  },
  {
   "cell_type": "code",
   "execution_count": 6,
   "metadata": {},
   "outputs": [
    {
     "data": {
      "text/plain": [
       "3"
      ]
     },
     "execution_count": 6,
     "metadata": {},
     "output_type": "execute_result"
    }
   ],
   "source": [
    "#randint                        selects random integer from the range\n",
    "from random import randint\n",
    "randint(0,100)"
   ]
  },
  {
   "cell_type": "code",
   "execution_count": 1,
   "metadata": {},
   "outputs": [
    {
     "data": {
      "text/plain": [
       "'c:\\\\Users\\\\admin\\\\Desktop\\\\python'"
      ]
     },
     "execution_count": 1,
     "metadata": {},
     "output_type": "execute_result"
    }
   ],
   "source": [
    "#pwd"
   ]
  },
  {
   "cell_type": "code",
   "execution_count": 6,
   "metadata": {},
   "outputs": [
    {
     "name": "stdout",
     "output_type": "stream",
     "text": [
      "None\n"
     ]
    }
   ],
   "source": [
    "import re\n",
    "sentence = \"the agent's phone number is (555)-888-1234. Call soon on his phone number!\"\n",
    "\n",
    "searches = re.search('(555)-888-1234', sentence)\n",
    "print(searches)\n"
   ]
  },
  {
   "cell_type": "code",
   "execution_count": 7,
   "metadata": {},
   "outputs": [
    {
     "name": "stdout",
     "output_type": "stream",
     "text": [
      "0 2\n"
     ]
    }
   ],
   "source": [
    "nums = [2,7,4,15] \n",
    "target = 6\n",
    "for i in range(0, len(nums)):\n",
    "    for j in range(i+1, len(nums)):\n",
    "        if (nums[i]+nums[j]==target):\n",
    "            print(i,j)  "
   ]
  },
  {
   "cell_type": "code",
   "execution_count": 9,
   "metadata": {},
   "outputs": [
    {
     "data": {
      "text/plain": [
       "5"
      ]
     },
     "execution_count": 9,
     "metadata": {},
     "output_type": "execute_result"
    }
   ],
   "source": [
    "s = \"hello world\"\n",
    "len(s.split()[-1])"
   ]
  },
  {
   "cell_type": "code",
   "execution_count": 64,
   "metadata": {},
   "outputs": [
    {
     "name": "stdout",
     "output_type": "stream",
     "text": [
      "6\n"
     ]
    }
   ],
   "source": [
    "sentences = [\"alice and bob love leetcode\", \"i think so too\", \"this is great thanks very much\"]\n",
    "L=[]\n",
    "for i in sentences:\n",
    "    L.append(len(i.split()))\n",
    "print(max(L))\n",
    "\n",
    "    \n",
    "    \n",
    "\n",
    "    "
   ]
  },
  {
   "cell_type": "code",
   "execution_count": 40,
   "metadata": {},
   "outputs": [
    {
     "name": "stdout",
     "output_type": "stream",
     "text": [
      "3\n"
     ]
    }
   ],
   "source": [
    "needle = 'sad'\n",
    "haystack = 'sadaboutsad'\n",
    "\n",
    "import re\n",
    "match = re.search(needle,haystack)\n",
    "if match != None:\n",
    "    print(match.start())\n",
    "else:\n",
    "    print('-1')\n",
    "   \n",
    "\n",
    "    "
   ]
  },
  {
   "cell_type": "code",
   "execution_count": null,
   "metadata": {},
   "outputs": [],
   "source": [
    "needle = 'sad'\n",
    "haystack = 'sadaboutsad'\n",
    "\n",
    "match = haystack.find(needle)\n",
    "if match != None:\n",
    "    print(match)\n",
    "else:\n",
    "    print('-1') "
   ]
  },
  {
   "cell_type": "code",
   "execution_count": 46,
   "metadata": {},
   "outputs": [
    {
     "name": "stdout",
     "output_type": "stream",
     "text": [
      "10101\n"
     ]
    }
   ],
   "source": [
    "#a = int('10110', 2) #(0*2** 0)+(1*2**1)+(1*2**2)+(0*2**3)+(1*2**4) = 22\n",
    "    #b = int('1011', 2) #(1*2** 0)+(1*2**1)+(0*2**2)+(1*2**3) = 11\n",
    "\n",
    "a = \"1010\"\n",
    "b = \"1011\"\n",
    "max_len = max(len(a), len(b))\n",
    "a = a.zfill(max_len)\n",
    "b = b.zfill(max_len)\n",
    " \n",
    "# Initialize the result\n",
    "result = ''\n",
    " \n",
    "# Initialize the carry\n",
    "carry = 0\n",
    " \n",
    "# Traverse the string\n",
    "for i in range(max_len - 1, -1, -1):\n",
    "    r = carry\n",
    "    r += 1 if a[i] == '1' else 0\n",
    "    r += 1 if b[i] == '1' else 0\n",
    "    result = ('1' if r % 2 == 1 else '0') + result\n",
    " \n",
    "    # Compute the carry.\n",
    "    carry = 0 if r < 2 else 1\n",
    " \n",
    "if carry != 0:\n",
    "    result = '1' + result\n",
    " \n",
    "print(result.zfill(max_len))"
   ]
  },
  {
   "cell_type": "code",
   "execution_count": 52,
   "metadata": {},
   "outputs": [
    {
     "name": "stdout",
     "output_type": "stream",
     "text": [
      "['0', '1', '2', '3', '4', '5', '6', '7', '8', '9']\n",
      "['0', '1', '2', '3', '4', '5', '6', '7', '8', '9']\n",
      "0.016005277633666992\n",
      "0.04801058769226074\n"
     ]
    }
   ],
   "source": [
    "def func_one(n):\n",
    "    return [str(num) for num in range(n)]\n",
    "print(func_one(10))\n",
    "\n",
    "def func_two(n):\n",
    "    return list(map(str, range(n)))\n",
    "print(func_two(10))\n"
   ]
  },
  {
   "cell_type": "code",
   "execution_count": 69,
   "metadata": {},
   "outputs": [
    {
     "name": "stdout",
     "output_type": "stream",
     "text": [
      "0.00799560546875\n"
     ]
    }
   ],
   "source": [
    "import time\n",
    "#current time before code\n",
    "start_time = time.time()\n",
    "\n",
    "#run code\n",
    "result1 = func_one(10000)\n",
    "\n",
    "#current time after the code\n",
    "end_time = time.time()\n",
    "\n",
    "#elapsed time\n",
    "elapsed_time = end_time - start_time\n",
    "print(elapsed_time)"
   ]
  },
  {
   "cell_type": "code",
   "execution_count": null,
   "metadata": {},
   "outputs": [],
   "source": [
    "##########################\n",
    "#current time before code\n",
    "start_time = time.time()\n",
    "\n",
    "#run code\n",
    "result = func_two(100000)\n",
    "\n",
    "#current time after the code\n",
    "end_time = time.time()\n",
    "\n",
    "#elapsed time\n",
    "elapsed_time = end_time - start_time\n",
    "print(elapsed_time)"
   ]
  },
  {
   "cell_type": "code",
   "execution_count": 63,
   "metadata": {},
   "outputs": [
    {
     "data": {
      "text/plain": [
       "2.053304199987906"
      ]
     },
     "execution_count": 63,
     "metadata": {},
     "output_type": "execute_result"
    }
   ],
   "source": [
    "import timeit\n",
    "\n",
    "stmt = '''\n",
    "func_one(100)\n",
    "'''\n",
    "\n",
    "setup = '''\n",
    "def func_one(n):\n",
    "    return [str(num) for num in range(n)]\n",
    "'''\n",
    "\n",
    "timeit.timeit(stmt, setup, number = 100000)   #repeating the number 100000 times"
   ]
  },
  {
   "cell_type": "code",
   "execution_count": 66,
   "metadata": {},
   "outputs": [
    {
     "data": {
      "text/plain": [
       "1.9989774999994552"
      ]
     },
     "execution_count": 66,
     "metadata": {},
     "output_type": "execute_result"
    }
   ],
   "source": [
    "import timeit\n",
    "\n",
    "stmt2 = '''\n",
    "func_two(100)\n",
    "'''\n",
    "\n",
    "setup2 = '''\n",
    "def func_two(n):\n",
    "    return list(map(str, range(n)))\n",
    "'''\n",
    "\n",
    "timeit.timeit(stmt2, setup2, number = 100000)"
   ]
  },
  {
   "cell_type": "code",
   "execution_count": 70,
   "metadata": {},
   "outputs": [
    {
     "name": "stdout",
     "output_type": "stream",
     "text": [
      "17.9 µs ± 1.52 µs per loop (mean ± std. dev. of 7 runs, 10,000 loops each)\n"
     ]
    }
   ],
   "source": [
    "%%timeit\n",
    "func_one(100)"
   ]
  },
  {
   "cell_type": "code",
   "execution_count": 71,
   "metadata": {},
   "outputs": [
    {
     "name": "stdout",
     "output_type": "stream",
     "text": [
      "17.2 µs ± 1.57 µs per loop (mean ± std. dev. of 7 runs, 10,000 loops each)\n"
     ]
    }
   ],
   "source": [
    "%%timeit\n",
    "func_two(100)"
   ]
  },
  {
   "cell_type": "code",
   "execution_count": 31,
   "metadata": {},
   "outputs": [
    {
     "name": "stdout",
     "output_type": "stream",
     "text": [
      "1\n",
      "2\n",
      "3\n"
     ]
    }
   ],
   "source": [
    "class PartyAnimal:\n",
    "    x=0\n",
    "\n",
    "    def party(self):\n",
    "        self.x=self.x + 1\n",
    "        print(self.x)\n",
    "\n",
    "an = PartyAnimal()\n",
    "an.party()\n",
    "an.party()\n",
    "an.party()"
   ]
  },
  {
   "cell_type": "code",
   "execution_count": 32,
   "metadata": {},
   "outputs": [
    {
     "name": "stdout",
     "output_type": "stream",
     "text": [
      "I am constructed\n",
      "1\n",
      "2\n",
      "3\n",
      "I am constructed 3\n",
      "42\n"
     ]
    }
   ],
   "source": [
    "class PartyAnimal:\n",
    "    x=0\n",
    "\n",
    "    def __init__(self):\n",
    "        print('I am constructed')\n",
    "\n",
    "    def party(self):\n",
    "        self.x=self.x + 1\n",
    "        print(self.x)\n",
    "\n",
    "    def __del__(self):\n",
    "        print('I am constructed', self.x)    #this prints the last value of an before getting destructed, once the program ends.. \n",
    "                                             #it calls all the destructors               \n",
    "\n",
    "an = PartyAnimal()\n",
    "an.party()\n",
    "an.party()\n",
    "an.party()\n",
    "\n",
    "an=42        #destructor\n",
    "print(an)"
   ]
  },
  {
   "cell_type": "code",
   "execution_count": 33,
   "metadata": {},
   "outputs": [
    {
     "name": "stdout",
     "output_type": "stream",
     "text": [
      "Sally constructed\n",
      "Sally party count 1\n",
      "Jim constructed\n",
      "Jim party count 1\n",
      "Sally party count 2\n"
     ]
    }
   ],
   "source": [
    "# 2 independent instances\n",
    "\n",
    "\n",
    "class PartyAnimal:\n",
    "    x = 0\n",
    "    name = ''\n",
    "\n",
    "    def __init__(self,z):  #self is the instance itself which points to under construction and z is the parameter\n",
    "        self.name = z\n",
    "        print(self.name,'constructed')\n",
    "\n",
    "    def party(self):\n",
    "        self.x = self.x+1\n",
    "        print(self.name,'party count', self.x)\n",
    "\n",
    "s = PartyAnimal('Sally')\n",
    "s.party()\n",
    "\n",
    "j=PartyAnimal('Jim')\n",
    "j.party()\n",
    "s.party()"
   ]
  },
  {
   "cell_type": "code",
   "execution_count": 37,
   "metadata": {},
   "outputs": [
    {
     "name": "stdout",
     "output_type": "stream",
     "text": [
      "Sally constructed\n",
      "Sally party count 1\n",
      "Jim constructed\n",
      "Jim party count 1\n",
      "Jim party count 2\n",
      "Jim  points 7\n"
     ]
    }
   ],
   "source": [
    "class PartyAnimal:\n",
    "    x = 0\n",
    "    name = ''\n",
    "\n",
    "    def __init__(self,nam):  #self is the instance itself which points to under construction and z is the parameter\n",
    "        self.name = nam\n",
    "        print(self.name,'constructed')\n",
    "\n",
    "    def party(self):\n",
    "        self.x = self.x+1\n",
    "        print(self.name,'party count', self.x)\n",
    "\n",
    "class FootballFan(PartyAnimal):   #extension class of partyanimal or subclass\n",
    "    points= 0 \n",
    "    def touchdown(self):\n",
    "        self.points = self.points + 7\n",
    "        self.party()\n",
    "        print(self.name, ' points', self.points)\n",
    "\n",
    "\n",
    "s= PartyAnimal('Sally')\n",
    "s.party()\n",
    "\n",
    "j= FootballFan('Jim')\n",
    "j.party()                 #at the moment of constrctor x is 0 then it is 1 when code is executed\n",
    "j.touchdown()"
   ]
  }
 ],
 "metadata": {
  "kernelspec": {
   "display_name": "Python 3",
   "language": "python",
   "name": "python3"
  },
  "language_info": {
   "codemirror_mode": {
    "name": "ipython",
    "version": 3
   },
   "file_extension": ".py",
   "mimetype": "text/x-python",
   "name": "python",
   "nbconvert_exporter": "python",
   "pygments_lexer": "ipython3",
   "version": "3.11.2"
  },
  "orig_nbformat": 4
 },
 "nbformat": 4,
 "nbformat_minor": 2
}
